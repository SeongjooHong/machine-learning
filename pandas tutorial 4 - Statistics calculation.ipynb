{
 "cells": [
  {
   "cell_type": "markdown",
   "metadata": {},
   "source": [
    "## 통계량 산출\n",
    "Series나 DataFrame에는 일반적인 수학적, 통계적인 계산을 실행하는 함수들을 사용할 수 있습니다. DataFrame에 대해 열별 평균값을 산출 해보겠습니다."
   ]
  },
  {
   "cell_type": "code",
   "execution_count": 1,
   "metadata": {},
   "outputs": [
    {
     "data": {
      "text/plain": [
       "anime_id    14055.982035\n",
       "episodes       13.939156\n",
       "rating          6.507956\n",
       "members     18924.950769\n",
       "dtype: float64"
      ]
     },
     "execution_count": 1,
     "metadata": {},
     "output_type": "execute_result"
    }
   ],
   "source": [
    "import pandas as pd\n",
    "\n",
    "anime_master_csv = './sample-data/anime/anime_master.csv'\n",
    "df = pd.read_csv(anime_master_csv)\n",
    "\n",
    "df.mean()"
   ]
  },
  {
   "cell_type": "markdown",
   "metadata": {},
   "source": [
    "Series에서도 같은 함수를 사용할 수 있습니다."
   ]
  },
  {
   "cell_type": "code",
   "execution_count": 2,
   "metadata": {},
   "outputs": [
    {
     "data": {
      "text/plain": [
       "190668879"
      ]
     },
     "execution_count": 2,
     "metadata": {},
     "output_type": "execute_result"
    }
   ],
   "source": [
    "df['members'].sum()"
   ]
  },
  {
   "cell_type": "markdown",
   "metadata": {},
   "source": [
    "합계나 평균값 외에 여러 가지 통계적 함수를 사용할 수 있습니다. 상세한 내용은 https://pandas.pydata.org/pandas-docs/stable/reference/index.html 를 참고하시면 됩니다.\n",
    "\n",
    "https://nittaku.tistory.com/113 여기는 통계적 함수 표 정리가 되어있음"
   ]
  },
  {
   "cell_type": "markdown",
   "metadata": {},
   "source": [
    "### 기본 통계량 산출하기\n",
    "\n",
    "describe()함수를 사용하여 기본 통계량을 산출할 수 있습니다. round()를 실행하면 소수 두 번째 자리까지 반올림할 수 있습니다. 퍼센트 표시는 백분위 값입니다. 전체를 100으로 작은 쪽부터 세어서 몇 번째가 되는지 나타내는 수치입니다. 50%는 중앙값을 의미합니다."
   ]
  },
  {
   "cell_type": "code",
   "execution_count": 3,
   "metadata": {},
   "outputs": [
    {
     "data": {
      "text/html": [
       "<div>\n",
       "<style scoped>\n",
       "    .dataframe tbody tr th:only-of-type {\n",
       "        vertical-align: middle;\n",
       "    }\n",
       "\n",
       "    .dataframe tbody tr th {\n",
       "        vertical-align: top;\n",
       "    }\n",
       "\n",
       "    .dataframe thead th {\n",
       "        text-align: right;\n",
       "    }\n",
       "</style>\n",
       "<table border=\"1\" class=\"dataframe\">\n",
       "  <thead>\n",
       "    <tr style=\"text-align: right;\">\n",
       "      <th></th>\n",
       "      <th>anime_id</th>\n",
       "      <th>episodes</th>\n",
       "      <th>rating</th>\n",
       "      <th>members</th>\n",
       "    </tr>\n",
       "  </thead>\n",
       "  <tbody>\n",
       "    <tr>\n",
       "      <th>count</th>\n",
       "      <td>10075.0</td>\n",
       "      <td>10075.0</td>\n",
       "      <td>10075.0</td>\n",
       "      <td>10075.0</td>\n",
       "    </tr>\n",
       "    <tr>\n",
       "      <th>mean</th>\n",
       "      <td>14056.0</td>\n",
       "      <td>13.9</td>\n",
       "      <td>6.5</td>\n",
       "      <td>18925.0</td>\n",
       "    </tr>\n",
       "    <tr>\n",
       "      <th>std</th>\n",
       "      <td>11294.9</td>\n",
       "      <td>50.8</td>\n",
       "      <td>1.1</td>\n",
       "      <td>57117.5</td>\n",
       "    </tr>\n",
       "    <tr>\n",
       "      <th>min</th>\n",
       "      <td>1.0</td>\n",
       "      <td>1.0</td>\n",
       "      <td>1.7</td>\n",
       "      <td>12.0</td>\n",
       "    </tr>\n",
       "    <tr>\n",
       "      <th>25%</th>\n",
       "      <td>3431.0</td>\n",
       "      <td>1.0</td>\n",
       "      <td>5.9</td>\n",
       "      <td>177.0</td>\n",
       "    </tr>\n",
       "    <tr>\n",
       "      <th>50%</th>\n",
       "      <td>10526.0</td>\n",
       "      <td>1.0</td>\n",
       "      <td>6.6</td>\n",
       "      <td>1227.0</td>\n",
       "    </tr>\n",
       "    <tr>\n",
       "      <th>75%</th>\n",
       "      <td>24438.0</td>\n",
       "      <td>13.0</td>\n",
       "      <td>7.3</td>\n",
       "      <td>10254.0</td>\n",
       "    </tr>\n",
       "    <tr>\n",
       "      <th>max</th>\n",
       "      <td>34519.0</td>\n",
       "      <td>1818.0</td>\n",
       "      <td>10.0</td>\n",
       "      <td>1013917.0</td>\n",
       "    </tr>\n",
       "  </tbody>\n",
       "</table>\n",
       "</div>"
      ],
      "text/plain": [
       "       anime_id  episodes   rating    members\n",
       "count   10075.0   10075.0  10075.0    10075.0\n",
       "mean    14056.0      13.9      6.5    18925.0\n",
       "std     11294.9      50.8      1.1    57117.5\n",
       "min         1.0       1.0      1.7       12.0\n",
       "25%      3431.0       1.0      5.9      177.0\n",
       "50%     10526.0       1.0      6.6     1227.0\n",
       "75%     24438.0      13.0      7.3    10254.0\n",
       "max     34519.0    1818.0     10.0  1013917.0"
      ]
     },
     "execution_count": 3,
     "metadata": {},
     "output_type": "execute_result"
    }
   ],
   "source": [
    "df.describe().round(1)"
   ]
  },
  {
   "cell_type": "markdown",
   "metadata": {},
   "source": [
    "백분위수 값을 변경하는 경우에는 키워드 인수 percentiles의 리스트 요소에 1이상의 소수 값을 지정하면 됩니다. 리스트 안에서 2개의 값을 지정해보겠습니다. 3개 이상 지정하는 것도 가능합니다."
   ]
  },
  {
   "cell_type": "code",
   "execution_count": 4,
   "metadata": {},
   "outputs": [
    {
     "data": {
      "text/html": [
       "<div>\n",
       "<style scoped>\n",
       "    .dataframe tbody tr th:only-of-type {\n",
       "        vertical-align: middle;\n",
       "    }\n",
       "\n",
       "    .dataframe tbody tr th {\n",
       "        vertical-align: top;\n",
       "    }\n",
       "\n",
       "    .dataframe thead th {\n",
       "        text-align: right;\n",
       "    }\n",
       "</style>\n",
       "<table border=\"1\" class=\"dataframe\">\n",
       "  <thead>\n",
       "    <tr style=\"text-align: right;\">\n",
       "      <th></th>\n",
       "      <th>anime_id</th>\n",
       "      <th>episodes</th>\n",
       "      <th>rating</th>\n",
       "      <th>members</th>\n",
       "    </tr>\n",
       "  </thead>\n",
       "  <tbody>\n",
       "    <tr>\n",
       "      <th>count</th>\n",
       "      <td>10075.0</td>\n",
       "      <td>10075.0</td>\n",
       "      <td>10075.0</td>\n",
       "      <td>10075.0</td>\n",
       "    </tr>\n",
       "    <tr>\n",
       "      <th>mean</th>\n",
       "      <td>14056.0</td>\n",
       "      <td>13.9</td>\n",
       "      <td>6.5</td>\n",
       "      <td>18925.0</td>\n",
       "    </tr>\n",
       "    <tr>\n",
       "      <th>std</th>\n",
       "      <td>11294.9</td>\n",
       "      <td>50.8</td>\n",
       "      <td>1.1</td>\n",
       "      <td>57117.5</td>\n",
       "    </tr>\n",
       "    <tr>\n",
       "      <th>min</th>\n",
       "      <td>1.0</td>\n",
       "      <td>1.0</td>\n",
       "      <td>1.7</td>\n",
       "      <td>12.0</td>\n",
       "    </tr>\n",
       "    <tr>\n",
       "      <th>10%</th>\n",
       "      <td>1259.4</td>\n",
       "      <td>1.0</td>\n",
       "      <td>5.1</td>\n",
       "      <td>74.0</td>\n",
       "    </tr>\n",
       "    <tr>\n",
       "      <th>50%</th>\n",
       "      <td>10526.0</td>\n",
       "      <td>1.0</td>\n",
       "      <td>6.6</td>\n",
       "      <td>1227.0</td>\n",
       "    </tr>\n",
       "    <tr>\n",
       "      <th>90%</th>\n",
       "      <td>31190.0</td>\n",
       "      <td>37.0</td>\n",
       "      <td>7.8</td>\n",
       "      <td>47587.6</td>\n",
       "    </tr>\n",
       "    <tr>\n",
       "      <th>max</th>\n",
       "      <td>34519.0</td>\n",
       "      <td>1818.0</td>\n",
       "      <td>10.0</td>\n",
       "      <td>1013917.0</td>\n",
       "    </tr>\n",
       "  </tbody>\n",
       "</table>\n",
       "</div>"
      ],
      "text/plain": [
       "       anime_id  episodes   rating    members\n",
       "count   10075.0   10075.0  10075.0    10075.0\n",
       "mean    14056.0      13.9      6.5    18925.0\n",
       "std     11294.9      50.8      1.1    57117.5\n",
       "min         1.0       1.0      1.7       12.0\n",
       "10%      1259.4       1.0      5.1       74.0\n",
       "50%     10526.0       1.0      6.6     1227.0\n",
       "90%     31190.0      37.0      7.8    47587.6\n",
       "max     34519.0    1818.0     10.0  1013917.0"
      ]
     },
     "execution_count": 4,
     "metadata": {},
     "output_type": "execute_result"
    }
   ],
   "source": [
    "df.describe(percentiles=[0.1, 0.9]).round(1)"
   ]
  },
  {
   "cell_type": "code",
   "execution_count": 5,
   "metadata": {},
   "outputs": [
    {
     "data": {
      "text/html": [
       "<div>\n",
       "<style scoped>\n",
       "    .dataframe tbody tr th:only-of-type {\n",
       "        vertical-align: middle;\n",
       "    }\n",
       "\n",
       "    .dataframe tbody tr th {\n",
       "        vertical-align: top;\n",
       "    }\n",
       "\n",
       "    .dataframe thead th {\n",
       "        text-align: right;\n",
       "    }\n",
       "</style>\n",
       "<table border=\"1\" class=\"dataframe\">\n",
       "  <thead>\n",
       "    <tr style=\"text-align: right;\">\n",
       "      <th></th>\n",
       "      <th>anime_id</th>\n",
       "      <th>episodes</th>\n",
       "      <th>rating</th>\n",
       "      <th>members</th>\n",
       "    </tr>\n",
       "  </thead>\n",
       "  <tbody>\n",
       "    <tr>\n",
       "      <th>count</th>\n",
       "      <td>10075.0</td>\n",
       "      <td>10075.0</td>\n",
       "      <td>10075.0</td>\n",
       "      <td>10075.0</td>\n",
       "    </tr>\n",
       "    <tr>\n",
       "      <th>mean</th>\n",
       "      <td>14056.0</td>\n",
       "      <td>13.9</td>\n",
       "      <td>6.5</td>\n",
       "      <td>18925.0</td>\n",
       "    </tr>\n",
       "    <tr>\n",
       "      <th>std</th>\n",
       "      <td>11294.9</td>\n",
       "      <td>50.8</td>\n",
       "      <td>1.1</td>\n",
       "      <td>57117.5</td>\n",
       "    </tr>\n",
       "    <tr>\n",
       "      <th>min</th>\n",
       "      <td>1.0</td>\n",
       "      <td>1.0</td>\n",
       "      <td>1.7</td>\n",
       "      <td>12.0</td>\n",
       "    </tr>\n",
       "    <tr>\n",
       "      <th>10%</th>\n",
       "      <td>1259.4</td>\n",
       "      <td>1.0</td>\n",
       "      <td>5.1</td>\n",
       "      <td>74.0</td>\n",
       "    </tr>\n",
       "    <tr>\n",
       "      <th>25%</th>\n",
       "      <td>3431.0</td>\n",
       "      <td>1.0</td>\n",
       "      <td>5.9</td>\n",
       "      <td>177.0</td>\n",
       "    </tr>\n",
       "    <tr>\n",
       "      <th>50%</th>\n",
       "      <td>10526.0</td>\n",
       "      <td>1.0</td>\n",
       "      <td>6.6</td>\n",
       "      <td>1227.0</td>\n",
       "    </tr>\n",
       "    <tr>\n",
       "      <th>75%</th>\n",
       "      <td>24438.0</td>\n",
       "      <td>13.0</td>\n",
       "      <td>7.3</td>\n",
       "      <td>10254.0</td>\n",
       "    </tr>\n",
       "    <tr>\n",
       "      <th>90%</th>\n",
       "      <td>31190.0</td>\n",
       "      <td>37.0</td>\n",
       "      <td>7.8</td>\n",
       "      <td>47587.6</td>\n",
       "    </tr>\n",
       "    <tr>\n",
       "      <th>max</th>\n",
       "      <td>34519.0</td>\n",
       "      <td>1818.0</td>\n",
       "      <td>10.0</td>\n",
       "      <td>1013917.0</td>\n",
       "    </tr>\n",
       "  </tbody>\n",
       "</table>\n",
       "</div>"
      ],
      "text/plain": [
       "       anime_id  episodes   rating    members\n",
       "count   10075.0   10075.0  10075.0    10075.0\n",
       "mean    14056.0      13.9      6.5    18925.0\n",
       "std     11294.9      50.8      1.1    57117.5\n",
       "min         1.0       1.0      1.7       12.0\n",
       "10%      1259.4       1.0      5.1       74.0\n",
       "25%      3431.0       1.0      5.9      177.0\n",
       "50%     10526.0       1.0      6.6     1227.0\n",
       "75%     24438.0      13.0      7.3    10254.0\n",
       "90%     31190.0      37.0      7.8    47587.6\n",
       "max     34519.0    1818.0     10.0  1013917.0"
      ]
     },
     "execution_count": 5,
     "metadata": {},
     "output_type": "execute_result"
    }
   ],
   "source": [
    "df.describe(percentiles=[0.1, 0.25, 0.75, 0.9]).round(1)"
   ]
  },
  {
   "cell_type": "markdown",
   "metadata": {},
   "source": [
    "DataFrame에 대해서 통계적인 연산을 하는 함수를 실행한 경우에는 수치형의 열이 대상이 됩니다. 비수치열에 대해 describe()함수를 사용한 경우에는 다음과 같은 기본 통계량이 산출됩니다.\n",
    "\n",
    "* count : 결손값을 제외한 데이터 수\n",
    "* unique : 유니크한 데이터 수\n",
    "* top : 데이터 수가 가장 많은 값\n",
    "* freq : top의 데이터 수"
   ]
  },
  {
   "cell_type": "code",
   "execution_count": 6,
   "metadata": {},
   "outputs": [
    {
     "data": {
      "text/html": [
       "<div>\n",
       "<style scoped>\n",
       "    .dataframe tbody tr th:only-of-type {\n",
       "        vertical-align: middle;\n",
       "    }\n",
       "\n",
       "    .dataframe tbody tr th {\n",
       "        vertical-align: top;\n",
       "    }\n",
       "\n",
       "    .dataframe thead th {\n",
       "        text-align: right;\n",
       "    }\n",
       "</style>\n",
       "<table border=\"1\" class=\"dataframe\">\n",
       "  <thead>\n",
       "    <tr style=\"text-align: right;\">\n",
       "      <th></th>\n",
       "      <th>genre</th>\n",
       "      <th>type</th>\n",
       "    </tr>\n",
       "  </thead>\n",
       "  <tbody>\n",
       "    <tr>\n",
       "      <th>count</th>\n",
       "      <td>10075</td>\n",
       "      <td>10075</td>\n",
       "    </tr>\n",
       "    <tr>\n",
       "      <th>unique</th>\n",
       "      <td>2735</td>\n",
       "      <td>6</td>\n",
       "    </tr>\n",
       "    <tr>\n",
       "      <th>top</th>\n",
       "      <td>Comedy</td>\n",
       "      <td>TV</td>\n",
       "    </tr>\n",
       "    <tr>\n",
       "      <th>freq</th>\n",
       "      <td>500</td>\n",
       "      <td>3330</td>\n",
       "    </tr>\n",
       "  </tbody>\n",
       "</table>\n",
       "</div>"
      ],
      "text/plain": [
       "         genre   type\n",
       "count    10075  10075\n",
       "unique    2735      6\n",
       "top     Comedy     TV\n",
       "freq       500   3330"
      ]
     },
     "execution_count": 6,
     "metadata": {},
     "output_type": "execute_result"
    }
   ],
   "source": [
    "df[['genre', 'type']].describe()"
   ]
  },
  {
   "cell_type": "code",
   "execution_count": null,
   "metadata": {},
   "outputs": [],
   "source": []
  }
 ],
 "metadata": {
  "kernelspec": {
   "display_name": "Python 3",
   "language": "python",
   "name": "python3"
  },
  "language_info": {
   "codemirror_mode": {
    "name": "ipython",
    "version": 3
   },
   "file_extension": ".py",
   "mimetype": "text/x-python",
   "name": "python",
   "nbconvert_exporter": "python",
   "pygments_lexer": "ipython3",
   "version": "3.7.4"
  }
 },
 "nbformat": 4,
 "nbformat_minor": 2
}
