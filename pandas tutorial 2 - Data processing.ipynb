{
 "cells": [
  {
   "cell_type": "markdown",
   "metadata": {},
   "source": [
    "# 데이터 불러오기\n",
    "### 샘플 데이터 불러오기"
   ]
  },
  {
   "cell_type": "code",
   "execution_count": 1,
   "metadata": {},
   "outputs": [],
   "source": [
    "import pandas as pd\n",
    "import numpy as np\n",
    "import matplotlib.pyplot as plt"
   ]
  },
  {
   "cell_type": "code",
   "execution_count": 2,
   "metadata": {},
   "outputs": [],
   "source": [
    "anime_csv = './sample-data/anime/anime.csv'"
   ]
  },
  {
   "cell_type": "code",
   "execution_count": 5,
   "metadata": {},
   "outputs": [
    {
     "data": {
      "text/html": [
       "<div>\n",
       "<style scoped>\n",
       "    .dataframe tbody tr th:only-of-type {\n",
       "        vertical-align: middle;\n",
       "    }\n",
       "\n",
       "    .dataframe tbody tr th {\n",
       "        vertical-align: top;\n",
       "    }\n",
       "\n",
       "    .dataframe thead th {\n",
       "        text-align: right;\n",
       "    }\n",
       "</style>\n",
       "<table border=\"1\" class=\"dataframe\">\n",
       "  <thead>\n",
       "    <tr style=\"text-align: right;\">\n",
       "      <th></th>\n",
       "      <th>anime_id</th>\n",
       "      <th>name</th>\n",
       "      <th>genre</th>\n",
       "      <th>type</th>\n",
       "      <th>episodes</th>\n",
       "      <th>rating</th>\n",
       "      <th>members</th>\n",
       "    </tr>\n",
       "  </thead>\n",
       "  <tbody>\n",
       "    <tr>\n",
       "      <th>0</th>\n",
       "      <td>32281</td>\n",
       "      <td>Kimi no Na wa.</td>\n",
       "      <td>Drama, Romance, School, Supernatural</td>\n",
       "      <td>Movie</td>\n",
       "      <td>1</td>\n",
       "      <td>9.37</td>\n",
       "      <td>200630</td>\n",
       "    </tr>\n",
       "    <tr>\n",
       "      <th>1</th>\n",
       "      <td>5114</td>\n",
       "      <td>Fullmetal Alchemist: Brotherhood</td>\n",
       "      <td>Action, Adventure, Drama, Fantasy, Magic, Mili...</td>\n",
       "      <td>TV</td>\n",
       "      <td>64</td>\n",
       "      <td>9.26</td>\n",
       "      <td>793665</td>\n",
       "    </tr>\n",
       "    <tr>\n",
       "      <th>2</th>\n",
       "      <td>28977</td>\n",
       "      <td>Gintama°</td>\n",
       "      <td>Action, Comedy, Historical, Parody, Samurai, S...</td>\n",
       "      <td>TV</td>\n",
       "      <td>51</td>\n",
       "      <td>9.25</td>\n",
       "      <td>114262</td>\n",
       "    </tr>\n",
       "    <tr>\n",
       "      <th>3</th>\n",
       "      <td>9253</td>\n",
       "      <td>Steins;Gate</td>\n",
       "      <td>Sci-Fi, Thriller</td>\n",
       "      <td>TV</td>\n",
       "      <td>24</td>\n",
       "      <td>9.17</td>\n",
       "      <td>673572</td>\n",
       "    </tr>\n",
       "    <tr>\n",
       "      <th>4</th>\n",
       "      <td>9969</td>\n",
       "      <td>Gintama&amp;#039;</td>\n",
       "      <td>Action, Comedy, Historical, Parody, Samurai, S...</td>\n",
       "      <td>TV</td>\n",
       "      <td>51</td>\n",
       "      <td>9.16</td>\n",
       "      <td>151266</td>\n",
       "    </tr>\n",
       "  </tbody>\n",
       "</table>\n",
       "</div>"
      ],
      "text/plain": [
       "   anime_id                              name  \\\n",
       "0     32281                    Kimi no Na wa.   \n",
       "1      5114  Fullmetal Alchemist: Brotherhood   \n",
       "2     28977                          Gintama°   \n",
       "3      9253                       Steins;Gate   \n",
       "4      9969                     Gintama&#039;   \n",
       "\n",
       "                                               genre   type episodes  rating  \\\n",
       "0               Drama, Romance, School, Supernatural  Movie        1    9.37   \n",
       "1  Action, Adventure, Drama, Fantasy, Magic, Mili...     TV       64    9.26   \n",
       "2  Action, Comedy, Historical, Parody, Samurai, S...     TV       51    9.25   \n",
       "3                                   Sci-Fi, Thriller     TV       24    9.17   \n",
       "4  Action, Comedy, Historical, Parody, Samurai, S...     TV       51    9.16   \n",
       "\n",
       "   members  \n",
       "0   200630  \n",
       "1   793665  \n",
       "2   114262  \n",
       "3   673572  \n",
       "4   151266  "
      ]
     },
     "execution_count": 5,
     "metadata": {},
     "output_type": "execute_result"
    }
   ],
   "source": [
    "df = pd.read_csv(anime_csv)\n",
    "df.head()"
   ]
  },
  {
   "cell_type": "markdown",
   "metadata": {},
   "source": [
    "### 데이터 처리\n",
    "#### 논리값으로 데잍 추출하기"
   ]
  },
  {
   "cell_type": "code",
   "execution_count": 6,
   "metadata": {},
   "outputs": [
    {
     "data": {
      "text/html": [
       "<div>\n",
       "<style scoped>\n",
       "    .dataframe tbody tr th:only-of-type {\n",
       "        vertical-align: middle;\n",
       "    }\n",
       "\n",
       "    .dataframe tbody tr th {\n",
       "        vertical-align: top;\n",
       "    }\n",
       "\n",
       "    .dataframe thead th {\n",
       "        text-align: right;\n",
       "    }\n",
       "</style>\n",
       "<table border=\"1\" class=\"dataframe\">\n",
       "  <thead>\n",
       "    <tr style=\"text-align: right;\">\n",
       "      <th></th>\n",
       "      <th>anime_id</th>\n",
       "      <th>name</th>\n",
       "      <th>genre</th>\n",
       "      <th>type</th>\n",
       "      <th>episodes</th>\n",
       "      <th>rating</th>\n",
       "      <th>members</th>\n",
       "    </tr>\n",
       "  </thead>\n",
       "  <tbody>\n",
       "    <tr>\n",
       "      <th>73</th>\n",
       "      <td>21</td>\n",
       "      <td>One Piece</td>\n",
       "      <td>Action, Adventure, Comedy, Drama, Fantasy, Sho...</td>\n",
       "      <td>TV</td>\n",
       "      <td>Unknown</td>\n",
       "      <td>8.58</td>\n",
       "      <td>504862</td>\n",
       "    </tr>\n",
       "    <tr>\n",
       "      <th>248</th>\n",
       "      <td>235</td>\n",
       "      <td>Detective Conan</td>\n",
       "      <td>Adventure, Comedy, Mystery, Police, Shounen</td>\n",
       "      <td>TV</td>\n",
       "      <td>Unknown</td>\n",
       "      <td>8.25</td>\n",
       "      <td>114702</td>\n",
       "    </tr>\n",
       "    <tr>\n",
       "      <th>607</th>\n",
       "      <td>1735</td>\n",
       "      <td>Naruto: Shippuuden</td>\n",
       "      <td>Action, Comedy, Martial Arts, Shounen, Super P...</td>\n",
       "      <td>TV</td>\n",
       "      <td>Unknown</td>\n",
       "      <td>7.94</td>\n",
       "      <td>533578</td>\n",
       "    </tr>\n",
       "    <tr>\n",
       "      <th>993</th>\n",
       "      <td>33157</td>\n",
       "      <td>Tanaka-kun wa Itsumo Kedaruge Specials</td>\n",
       "      <td>Comedy, School, Slice of Life</td>\n",
       "      <td>Special</td>\n",
       "      <td>Unknown</td>\n",
       "      <td>7.72</td>\n",
       "      <td>5400</td>\n",
       "    </tr>\n",
       "    <tr>\n",
       "      <th>1226</th>\n",
       "      <td>21639</td>\n",
       "      <td>Yu☆Gi☆Oh! Arc-V</td>\n",
       "      <td>Action, Fantasy, Game, Shounen</td>\n",
       "      <td>TV</td>\n",
       "      <td>Unknown</td>\n",
       "      <td>7.61</td>\n",
       "      <td>17571</td>\n",
       "    </tr>\n",
       "  </tbody>\n",
       "</table>\n",
       "</div>"
      ],
      "text/plain": [
       "      anime_id                                    name  \\\n",
       "73          21                               One Piece   \n",
       "248        235                         Detective Conan   \n",
       "607       1735                      Naruto: Shippuuden   \n",
       "993      33157  Tanaka-kun wa Itsumo Kedaruge Specials   \n",
       "1226     21639                         Yu☆Gi☆Oh! Arc-V   \n",
       "\n",
       "                                                  genre     type episodes  \\\n",
       "73    Action, Adventure, Comedy, Drama, Fantasy, Sho...       TV  Unknown   \n",
       "248         Adventure, Comedy, Mystery, Police, Shounen       TV  Unknown   \n",
       "607   Action, Comedy, Martial Arts, Shounen, Super P...       TV  Unknown   \n",
       "993                       Comedy, School, Slice of Life  Special  Unknown   \n",
       "1226                     Action, Fantasy, Game, Shounen       TV  Unknown   \n",
       "\n",
       "      rating  members  \n",
       "73      8.58   504862  \n",
       "248     8.25   114702  \n",
       "607     7.94   533578  \n",
       "993     7.72     5400  \n",
       "1226    7.61    17571  "
      ]
     },
     "execution_count": 6,
     "metadata": {},
     "output_type": "execute_result"
    }
   ],
   "source": [
    "df.loc[df['episodes'] == 'Unknown'].head()"
   ]
  },
  {
   "cell_type": "markdown",
   "metadata": {},
   "source": [
    "#### where 메서드로 데이터 추출하기\n",
    "앞의 레이블을 사용한 방법에서는 검색 조건에 맞지 않은 행은 제외되었습니다. DataFrame.where( ) methon는 해\n",
    "당하지 않는 데이터를 NaN 으로 채운 DataFrame을 되돌려줍니다. rating열이 9.2보다 작은 데이터를 추출해서 조\n",
    "건에 맞지 않은 데이터는 NaN으로 채운 DataFrame으로 되돌려줍니다.\n",
    "\n",
    "※ NaN이란? Not a Number로 컴퓨터 연산에서 NaN은 연산 과정에서 잘못된 입력을 받았음을 나타내는 기호입니\n",
    "다."
   ]
  },
  {
   "cell_type": "code",
   "execution_count": 7,
   "metadata": {},
   "outputs": [
    {
     "data": {
      "text/html": [
       "<div>\n",
       "<style scoped>\n",
       "    .dataframe tbody tr th:only-of-type {\n",
       "        vertical-align: middle;\n",
       "    }\n",
       "\n",
       "    .dataframe tbody tr th {\n",
       "        vertical-align: top;\n",
       "    }\n",
       "\n",
       "    .dataframe thead th {\n",
       "        text-align: right;\n",
       "    }\n",
       "</style>\n",
       "<table border=\"1\" class=\"dataframe\">\n",
       "  <thead>\n",
       "    <tr style=\"text-align: right;\">\n",
       "      <th></th>\n",
       "      <th>anime_id</th>\n",
       "      <th>name</th>\n",
       "      <th>genre</th>\n",
       "      <th>type</th>\n",
       "      <th>episodes</th>\n",
       "      <th>rating</th>\n",
       "      <th>members</th>\n",
       "    </tr>\n",
       "  </thead>\n",
       "  <tbody>\n",
       "    <tr>\n",
       "      <th>0</th>\n",
       "      <td>NaN</td>\n",
       "      <td>NaN</td>\n",
       "      <td>NaN</td>\n",
       "      <td>NaN</td>\n",
       "      <td>NaN</td>\n",
       "      <td>NaN</td>\n",
       "      <td>NaN</td>\n",
       "    </tr>\n",
       "    <tr>\n",
       "      <th>1</th>\n",
       "      <td>NaN</td>\n",
       "      <td>NaN</td>\n",
       "      <td>NaN</td>\n",
       "      <td>NaN</td>\n",
       "      <td>NaN</td>\n",
       "      <td>NaN</td>\n",
       "      <td>NaN</td>\n",
       "    </tr>\n",
       "    <tr>\n",
       "      <th>2</th>\n",
       "      <td>NaN</td>\n",
       "      <td>NaN</td>\n",
       "      <td>NaN</td>\n",
       "      <td>NaN</td>\n",
       "      <td>NaN</td>\n",
       "      <td>NaN</td>\n",
       "      <td>NaN</td>\n",
       "    </tr>\n",
       "    <tr>\n",
       "      <th>3</th>\n",
       "      <td>9253.0</td>\n",
       "      <td>Steins;Gate</td>\n",
       "      <td>Sci-Fi, Thriller</td>\n",
       "      <td>TV</td>\n",
       "      <td>24</td>\n",
       "      <td>9.17</td>\n",
       "      <td>673572.0</td>\n",
       "    </tr>\n",
       "    <tr>\n",
       "      <th>4</th>\n",
       "      <td>9969.0</td>\n",
       "      <td>Gintama&amp;#039;</td>\n",
       "      <td>Action, Comedy, Historical, Parody, Samurai, S...</td>\n",
       "      <td>TV</td>\n",
       "      <td>51</td>\n",
       "      <td>9.16</td>\n",
       "      <td>151266.0</td>\n",
       "    </tr>\n",
       "  </tbody>\n",
       "</table>\n",
       "</div>"
      ],
      "text/plain": [
       "   anime_id           name                                              genre  \\\n",
       "0       NaN            NaN                                                NaN   \n",
       "1       NaN            NaN                                                NaN   \n",
       "2       NaN            NaN                                                NaN   \n",
       "3    9253.0    Steins;Gate                                   Sci-Fi, Thriller   \n",
       "4    9969.0  Gintama&#039;  Action, Comedy, Historical, Parody, Samurai, S...   \n",
       "\n",
       "  type episodes  rating   members  \n",
       "0  NaN      NaN     NaN       NaN  \n",
       "1  NaN      NaN     NaN       NaN  \n",
       "2  NaN      NaN     NaN       NaN  \n",
       "3   TV       24    9.17  673572.0  \n",
       "4   TV       51    9.16  151266.0  "
      ]
     },
     "execution_count": 7,
     "metadata": {},
     "output_type": "execute_result"
    }
   ],
   "source": [
    "df.where(df['rating'] < 9.2).head()"
   ]
  },
  {
   "cell_type": "markdown",
   "metadata": {},
   "source": [
    "#### 값 변경하기\n",
    "DataFrame의 레이블을 지정하고 값을 대입하면 지정된 범위의 값이 바뀝니다. 행과 열의 레이블을 지정해서 값을\n",
    "NaN으로 변경 해보겠습니다."
   ]
  },
  {
   "cell_type": "code",
   "execution_count": 8,
   "metadata": {},
   "outputs": [
    {
     "data": {
      "text/plain": [
       "nan"
      ]
     },
     "execution_count": 8,
     "metadata": {},
     "output_type": "execute_result"
    }
   ],
   "source": [
    "df.loc[74, 'episodes'] = np.nan\n",
    "df.loc[74, 'episodes']"
   ]
  },
  {
   "cell_type": "markdown",
   "metadata": {},
   "source": [
    "복수의 값을 변경하는 것도 가능합니다. episodes 열의 값이 Unknown일 경우에 값을 NaN으로 변경해보겠습니\n",
    "다."
   ]
  },
  {
   "cell_type": "code",
   "execution_count": 9,
   "metadata": {},
   "outputs": [],
   "source": [
    "df.loc[df['episodes'] == 'Unknown', 'episodes'] = np.nan"
   ]
  },
  {
   "cell_type": "markdown",
   "metadata": {},
   "source": [
    "#### 결손값 제외하기\n",
    "NaN은 결손값으로 취급됩니다. isnull( )함수는 결손값일 경우에 True를 반환합니다. isnull( )함수를 이용해서\n",
    "episodes 열에 결손값이 있는 값을 추출해보겠습니다."
   ]
  },
  {
   "cell_type": "code",
   "execution_count": 10,
   "metadata": {},
   "outputs": [
    {
     "data": {
      "text/html": [
       "<div>\n",
       "<style scoped>\n",
       "    .dataframe tbody tr th:only-of-type {\n",
       "        vertical-align: middle;\n",
       "    }\n",
       "\n",
       "    .dataframe tbody tr th {\n",
       "        vertical-align: top;\n",
       "    }\n",
       "\n",
       "    .dataframe thead th {\n",
       "        text-align: right;\n",
       "    }\n",
       "</style>\n",
       "<table border=\"1\" class=\"dataframe\">\n",
       "  <thead>\n",
       "    <tr style=\"text-align: right;\">\n",
       "      <th></th>\n",
       "      <th>anime_id</th>\n",
       "      <th>name</th>\n",
       "      <th>genre</th>\n",
       "      <th>type</th>\n",
       "      <th>episodes</th>\n",
       "      <th>rating</th>\n",
       "      <th>members</th>\n",
       "    </tr>\n",
       "  </thead>\n",
       "  <tbody>\n",
       "    <tr>\n",
       "      <th>73</th>\n",
       "      <td>21</td>\n",
       "      <td>One Piece</td>\n",
       "      <td>Action, Adventure, Comedy, Drama, Fantasy, Sho...</td>\n",
       "      <td>TV</td>\n",
       "      <td>NaN</td>\n",
       "      <td>8.58</td>\n",
       "      <td>504862</td>\n",
       "    </tr>\n",
       "    <tr>\n",
       "      <th>74</th>\n",
       "      <td>801</td>\n",
       "      <td>Ghost in the Shell: Stand Alone Complex 2nd GIG</td>\n",
       "      <td>Action, Mecha, Military, Mystery, Police, Sci-...</td>\n",
       "      <td>TV</td>\n",
       "      <td>NaN</td>\n",
       "      <td>8.57</td>\n",
       "      <td>113993</td>\n",
       "    </tr>\n",
       "    <tr>\n",
       "      <th>248</th>\n",
       "      <td>235</td>\n",
       "      <td>Detective Conan</td>\n",
       "      <td>Adventure, Comedy, Mystery, Police, Shounen</td>\n",
       "      <td>TV</td>\n",
       "      <td>NaN</td>\n",
       "      <td>8.25</td>\n",
       "      <td>114702</td>\n",
       "    </tr>\n",
       "    <tr>\n",
       "      <th>607</th>\n",
       "      <td>1735</td>\n",
       "      <td>Naruto: Shippuuden</td>\n",
       "      <td>Action, Comedy, Martial Arts, Shounen, Super P...</td>\n",
       "      <td>TV</td>\n",
       "      <td>NaN</td>\n",
       "      <td>7.94</td>\n",
       "      <td>533578</td>\n",
       "    </tr>\n",
       "    <tr>\n",
       "      <th>993</th>\n",
       "      <td>33157</td>\n",
       "      <td>Tanaka-kun wa Itsumo Kedaruge Specials</td>\n",
       "      <td>Comedy, School, Slice of Life</td>\n",
       "      <td>Special</td>\n",
       "      <td>NaN</td>\n",
       "      <td>7.72</td>\n",
       "      <td>5400</td>\n",
       "    </tr>\n",
       "  </tbody>\n",
       "</table>\n",
       "</div>"
      ],
      "text/plain": [
       "     anime_id                                             name  \\\n",
       "73         21                                        One Piece   \n",
       "74        801  Ghost in the Shell: Stand Alone Complex 2nd GIG   \n",
       "248       235                                  Detective Conan   \n",
       "607      1735                               Naruto: Shippuuden   \n",
       "993     33157           Tanaka-kun wa Itsumo Kedaruge Specials   \n",
       "\n",
       "                                                 genre     type episodes  \\\n",
       "73   Action, Adventure, Comedy, Drama, Fantasy, Sho...       TV      NaN   \n",
       "74   Action, Mecha, Military, Mystery, Police, Sci-...       TV      NaN   \n",
       "248        Adventure, Comedy, Mystery, Police, Shounen       TV      NaN   \n",
       "607  Action, Comedy, Martial Arts, Shounen, Super P...       TV      NaN   \n",
       "993                      Comedy, School, Slice of Life  Special      NaN   \n",
       "\n",
       "     rating  members  \n",
       "73     8.58   504862  \n",
       "74     8.57   113993  \n",
       "248    8.25   114702  \n",
       "607    7.94   533578  \n",
       "993    7.72     5400  "
      ]
     },
     "execution_count": 10,
     "metadata": {},
     "output_type": "execute_result"
    }
   ],
   "source": [
    "df.loc[df['episodes'].isnull()].head()"
   ]
  },
  {
   "cell_type": "markdown",
   "metadata": {},
   "source": [
    "#### 결손값이 포함되어 있는 데이터 제외하기\n",
    "DataFrame.dropna( )함수를 이용하여 결손값이 포함된 데이터를 제외할 수 있습니다."
   ]
  },
  {
   "cell_type": "code",
   "execution_count": 11,
   "metadata": {},
   "outputs": [
    {
     "data": {
      "text/html": [
       "<div>\n",
       "<style scoped>\n",
       "    .dataframe tbody tr th:only-of-type {\n",
       "        vertical-align: middle;\n",
       "    }\n",
       "\n",
       "    .dataframe tbody tr th {\n",
       "        vertical-align: top;\n",
       "    }\n",
       "\n",
       "    .dataframe thead th {\n",
       "        text-align: right;\n",
       "    }\n",
       "</style>\n",
       "<table border=\"1\" class=\"dataframe\">\n",
       "  <thead>\n",
       "    <tr style=\"text-align: right;\">\n",
       "      <th></th>\n",
       "      <th>anime_id</th>\n",
       "      <th>name</th>\n",
       "      <th>genre</th>\n",
       "      <th>type</th>\n",
       "      <th>episodes</th>\n",
       "      <th>rating</th>\n",
       "      <th>members</th>\n",
       "    </tr>\n",
       "  </thead>\n",
       "  <tbody>\n",
       "    <tr>\n",
       "      <th>70</th>\n",
       "      <td>578</td>\n",
       "      <td>Hotaru no Haka</td>\n",
       "      <td>Drama, Historical</td>\n",
       "      <td>Movie</td>\n",
       "      <td>1</td>\n",
       "      <td>8.58</td>\n",
       "      <td>174878</td>\n",
       "    </tr>\n",
       "    <tr>\n",
       "      <th>71</th>\n",
       "      <td>16894</td>\n",
       "      <td>Kuroko no Basket 2nd Season</td>\n",
       "      <td>Comedy, School, Shounen, Sports</td>\n",
       "      <td>TV</td>\n",
       "      <td>25</td>\n",
       "      <td>8.58</td>\n",
       "      <td>243325</td>\n",
       "    </tr>\n",
       "    <tr>\n",
       "      <th>72</th>\n",
       "      <td>5028</td>\n",
       "      <td>Major S5</td>\n",
       "      <td>Comedy, Drama, Romance, Sports</td>\n",
       "      <td>TV</td>\n",
       "      <td>25</td>\n",
       "      <td>8.58</td>\n",
       "      <td>28653</td>\n",
       "    </tr>\n",
       "    <tr>\n",
       "      <th>75</th>\n",
       "      <td>31933</td>\n",
       "      <td>JoJo no Kimyou na Bouken: Diamond wa Kudakenai</td>\n",
       "      <td>Action, Adventure, Comedy, Drama, Shounen, Sup...</td>\n",
       "      <td>TV</td>\n",
       "      <td>39</td>\n",
       "      <td>8.57</td>\n",
       "      <td>74074</td>\n",
       "    </tr>\n",
       "    <tr>\n",
       "      <th>76</th>\n",
       "      <td>5205</td>\n",
       "      <td>Kara no Kyoukai 7: Satsujin Kousatsu (Kou)</td>\n",
       "      <td>Action, Mystery, Romance, Supernatural, Thriller</td>\n",
       "      <td>Movie</td>\n",
       "      <td>1</td>\n",
       "      <td>8.57</td>\n",
       "      <td>95658</td>\n",
       "    </tr>\n",
       "  </tbody>\n",
       "</table>\n",
       "</div>"
      ],
      "text/plain": [
       "    anime_id                                            name  \\\n",
       "70       578                                  Hotaru no Haka   \n",
       "71     16894                     Kuroko no Basket 2nd Season   \n",
       "72      5028                                        Major S5   \n",
       "75     31933  JoJo no Kimyou na Bouken: Diamond wa Kudakenai   \n",
       "76      5205      Kara no Kyoukai 7: Satsujin Kousatsu (Kou)   \n",
       "\n",
       "                                                genre   type episodes  rating  \\\n",
       "70                                  Drama, Historical  Movie        1    8.58   \n",
       "71                    Comedy, School, Shounen, Sports     TV       25    8.58   \n",
       "72                     Comedy, Drama, Romance, Sports     TV       25    8.58   \n",
       "75  Action, Adventure, Comedy, Drama, Shounen, Sup...     TV       39    8.57   \n",
       "76   Action, Mystery, Romance, Supernatural, Thriller  Movie        1    8.57   \n",
       "\n",
       "    members  \n",
       "70   174878  \n",
       "71   243325  \n",
       "72    28653  \n",
       "75    74074  \n",
       "76    95658  "
      ]
     },
     "execution_count": 11,
     "metadata": {},
     "output_type": "execute_result"
    }
   ],
   "source": [
    "df.dropna().loc[70:].head()"
   ]
  },
  {
   "cell_type": "markdown",
   "metadata": {},
   "source": [
    "실행을 해보면, 73~74 행이 제외되어 있는 것을 확인할 수 있습니다."
   ]
  },
  {
   "cell_type": "markdown",
   "metadata": {},
   "source": [
    "dropna( )는 기본적으로 비파괴적 조작입니다. 다시 한 번 이전 DataFrame을 참조한 경우에 제외했던 값이 남아있\n",
    "는 경우를 확인할 수 있습니다."
   ]
  },
  {
   "cell_type": "code",
   "execution_count": 12,
   "metadata": {},
   "outputs": [
    {
     "data": {
      "text/html": [
       "<div>\n",
       "<style scoped>\n",
       "    .dataframe tbody tr th:only-of-type {\n",
       "        vertical-align: middle;\n",
       "    }\n",
       "\n",
       "    .dataframe tbody tr th {\n",
       "        vertical-align: top;\n",
       "    }\n",
       "\n",
       "    .dataframe thead th {\n",
       "        text-align: right;\n",
       "    }\n",
       "</style>\n",
       "<table border=\"1\" class=\"dataframe\">\n",
       "  <thead>\n",
       "    <tr style=\"text-align: right;\">\n",
       "      <th></th>\n",
       "      <th>anime_id</th>\n",
       "      <th>name</th>\n",
       "      <th>genre</th>\n",
       "      <th>type</th>\n",
       "      <th>episodes</th>\n",
       "      <th>rating</th>\n",
       "      <th>members</th>\n",
       "    </tr>\n",
       "  </thead>\n",
       "  <tbody>\n",
       "    <tr>\n",
       "      <th>70</th>\n",
       "      <td>578</td>\n",
       "      <td>Hotaru no Haka</td>\n",
       "      <td>Drama, Historical</td>\n",
       "      <td>Movie</td>\n",
       "      <td>1</td>\n",
       "      <td>8.58</td>\n",
       "      <td>174878</td>\n",
       "    </tr>\n",
       "    <tr>\n",
       "      <th>71</th>\n",
       "      <td>16894</td>\n",
       "      <td>Kuroko no Basket 2nd Season</td>\n",
       "      <td>Comedy, School, Shounen, Sports</td>\n",
       "      <td>TV</td>\n",
       "      <td>25</td>\n",
       "      <td>8.58</td>\n",
       "      <td>243325</td>\n",
       "    </tr>\n",
       "    <tr>\n",
       "      <th>72</th>\n",
       "      <td>5028</td>\n",
       "      <td>Major S5</td>\n",
       "      <td>Comedy, Drama, Romance, Sports</td>\n",
       "      <td>TV</td>\n",
       "      <td>25</td>\n",
       "      <td>8.58</td>\n",
       "      <td>28653</td>\n",
       "    </tr>\n",
       "    <tr>\n",
       "      <th>73</th>\n",
       "      <td>21</td>\n",
       "      <td>One Piece</td>\n",
       "      <td>Action, Adventure, Comedy, Drama, Fantasy, Sho...</td>\n",
       "      <td>TV</td>\n",
       "      <td>NaN</td>\n",
       "      <td>8.58</td>\n",
       "      <td>504862</td>\n",
       "    </tr>\n",
       "    <tr>\n",
       "      <th>74</th>\n",
       "      <td>801</td>\n",
       "      <td>Ghost in the Shell: Stand Alone Complex 2nd GIG</td>\n",
       "      <td>Action, Mecha, Military, Mystery, Police, Sci-...</td>\n",
       "      <td>TV</td>\n",
       "      <td>NaN</td>\n",
       "      <td>8.57</td>\n",
       "      <td>113993</td>\n",
       "    </tr>\n",
       "  </tbody>\n",
       "</table>\n",
       "</div>"
      ],
      "text/plain": [
       "    anime_id                                             name  \\\n",
       "70       578                                   Hotaru no Haka   \n",
       "71     16894                      Kuroko no Basket 2nd Season   \n",
       "72      5028                                         Major S5   \n",
       "73        21                                        One Piece   \n",
       "74       801  Ghost in the Shell: Stand Alone Complex 2nd GIG   \n",
       "\n",
       "                                                genre   type episodes  rating  \\\n",
       "70                                  Drama, Historical  Movie        1    8.58   \n",
       "71                    Comedy, School, Shounen, Sports     TV       25    8.58   \n",
       "72                     Comedy, Drama, Romance, Sports     TV       25    8.58   \n",
       "73  Action, Adventure, Comedy, Drama, Fantasy, Sho...     TV      NaN    8.58   \n",
       "74  Action, Mecha, Military, Mystery, Police, Sci-...     TV      NaN    8.57   \n",
       "\n",
       "    members  \n",
       "70   174878  \n",
       "71   243325  \n",
       "72    28653  \n",
       "73   504862  \n",
       "74   113993  "
      ]
     },
     "execution_count": 12,
     "metadata": {},
     "output_type": "execute_result"
    }
   ],
   "source": [
    "df.loc[70:].head()"
   ]
  },
  {
   "cell_type": "markdown",
   "metadata": {},
   "source": [
    "#### DataFrame의 내용을 파괴적으로 다시 쓰는 경우\n",
    "파괴적으로 DataFrame의 내용을 다시 쓰는 경우, dropna()의 키워드 인수 inplace에 True를 지정할 수 있습니다.\n",
    "파괴적 조작은 이전의 오브젝트를 다시 쓰는 조작이며, 이전의 오브젝트를 유지해서 새로운 오브젝트를 작성하는\n",
    "조작을 가리킵니다. 파괴적인 조작을 하면 대상의 오브젝트 참조하고 있는 다른 처리에 대해서도 영향을 주기 때\n",
    "문에 주의가 필요합니다."
   ]
  },
  {
   "cell_type": "code",
   "execution_count": 13,
   "metadata": {},
   "outputs": [
    {
     "data": {
      "text/html": [
       "<div>\n",
       "<style scoped>\n",
       "    .dataframe tbody tr th:only-of-type {\n",
       "        vertical-align: middle;\n",
       "    }\n",
       "\n",
       "    .dataframe tbody tr th {\n",
       "        vertical-align: top;\n",
       "    }\n",
       "\n",
       "    .dataframe thead th {\n",
       "        text-align: right;\n",
       "    }\n",
       "</style>\n",
       "<table border=\"1\" class=\"dataframe\">\n",
       "  <thead>\n",
       "    <tr style=\"text-align: right;\">\n",
       "      <th></th>\n",
       "      <th>anime_id</th>\n",
       "      <th>name</th>\n",
       "      <th>genre</th>\n",
       "      <th>type</th>\n",
       "      <th>episodes</th>\n",
       "      <th>rating</th>\n",
       "      <th>members</th>\n",
       "    </tr>\n",
       "  </thead>\n",
       "  <tbody>\n",
       "    <tr>\n",
       "      <th>70</th>\n",
       "      <td>578</td>\n",
       "      <td>Hotaru no Haka</td>\n",
       "      <td>Drama, Historical</td>\n",
       "      <td>Movie</td>\n",
       "      <td>1</td>\n",
       "      <td>8.58</td>\n",
       "      <td>174878</td>\n",
       "    </tr>\n",
       "    <tr>\n",
       "      <th>71</th>\n",
       "      <td>16894</td>\n",
       "      <td>Kuroko no Basket 2nd Season</td>\n",
       "      <td>Comedy, School, Shounen, Sports</td>\n",
       "      <td>TV</td>\n",
       "      <td>25</td>\n",
       "      <td>8.58</td>\n",
       "      <td>243325</td>\n",
       "    </tr>\n",
       "    <tr>\n",
       "      <th>72</th>\n",
       "      <td>5028</td>\n",
       "      <td>Major S5</td>\n",
       "      <td>Comedy, Drama, Romance, Sports</td>\n",
       "      <td>TV</td>\n",
       "      <td>25</td>\n",
       "      <td>8.58</td>\n",
       "      <td>28653</td>\n",
       "    </tr>\n",
       "    <tr>\n",
       "      <th>75</th>\n",
       "      <td>31933</td>\n",
       "      <td>JoJo no Kimyou na Bouken: Diamond wa Kudakenai</td>\n",
       "      <td>Action, Adventure, Comedy, Drama, Shounen, Sup...</td>\n",
       "      <td>TV</td>\n",
       "      <td>39</td>\n",
       "      <td>8.57</td>\n",
       "      <td>74074</td>\n",
       "    </tr>\n",
       "    <tr>\n",
       "      <th>76</th>\n",
       "      <td>5205</td>\n",
       "      <td>Kara no Kyoukai 7: Satsujin Kousatsu (Kou)</td>\n",
       "      <td>Action, Mystery, Romance, Supernatural, Thriller</td>\n",
       "      <td>Movie</td>\n",
       "      <td>1</td>\n",
       "      <td>8.57</td>\n",
       "      <td>95658</td>\n",
       "    </tr>\n",
       "  </tbody>\n",
       "</table>\n",
       "</div>"
      ],
      "text/plain": [
       "    anime_id                                            name  \\\n",
       "70       578                                  Hotaru no Haka   \n",
       "71     16894                     Kuroko no Basket 2nd Season   \n",
       "72      5028                                        Major S5   \n",
       "75     31933  JoJo no Kimyou na Bouken: Diamond wa Kudakenai   \n",
       "76      5205      Kara no Kyoukai 7: Satsujin Kousatsu (Kou)   \n",
       "\n",
       "                                                genre   type episodes  rating  \\\n",
       "70                                  Drama, Historical  Movie        1    8.58   \n",
       "71                    Comedy, School, Shounen, Sports     TV       25    8.58   \n",
       "72                     Comedy, Drama, Romance, Sports     TV       25    8.58   \n",
       "75  Action, Adventure, Comedy, Drama, Shounen, Sup...     TV       39    8.57   \n",
       "76   Action, Mystery, Romance, Supernatural, Thriller  Movie        1    8.57   \n",
       "\n",
       "    members  \n",
       "70   174878  \n",
       "71   243325  \n",
       "72    28653  \n",
       "75    74074  \n",
       "76    95658  "
      ]
     },
     "execution_count": 13,
     "metadata": {},
     "output_type": "execute_result"
    }
   ],
   "source": [
    "df.dropna(inplace=True)\n",
    "df.loc[70:].head()"
   ]
  },
  {
   "cell_type": "markdown",
   "metadata": {},
   "source": [
    "### 데이터 형\n",
    "Series나 DataFrame은 작성된 시점에 데이터형이 자동적으로 설정됩니다. 수치 데이터는 Numpy의 데이터형이\n",
    "저장되고 문자열 등의 데이터는 object형으로 취급됩니다.\n",
    "#### Series의 데이터 형을 확인하는 경우\n",
    "Series의 데이터 형을 확인할 때는 dtype을 참조하면 됩니다."
   ]
  },
  {
   "cell_type": "code",
   "execution_count": 14,
   "metadata": {},
   "outputs": [
    {
     "data": {
      "text/plain": [
       "dtype('int64')"
      ]
     },
     "execution_count": 14,
     "metadata": {},
     "output_type": "execute_result"
    }
   ],
   "source": [
    "df['anime_id'].dtype"
   ]
  },
  {
   "cell_type": "markdown",
   "metadata": {},
   "source": [
    "#### DataFrame의 데이터 형을 확인하는 경우\n",
    "DataFrame의 데이터 형을 확인할 때는 dtypes을 참조하면 됩니다"
   ]
  },
  {
   "cell_type": "code",
   "execution_count": 15,
   "metadata": {},
   "outputs": [
    {
     "data": {
      "text/plain": [
       "anime_id      int64\n",
       "name         object\n",
       "genre        object\n",
       "type         object\n",
       "episodes     object\n",
       "rating      float64\n",
       "members       int64\n",
       "dtype: object"
      ]
     },
     "execution_count": 15,
     "metadata": {},
     "output_type": "execute_result"
    }
   ],
   "source": [
    "df.dtypes"
   ]
  },
  {
   "cell_type": "markdown",
   "metadata": {},
   "source": [
    "DataFrame이 열마다 형을 가지고 있는 것을 확인할 수 있습니다. 형을 변환하는 경우에는 astype() 함수를 사용할\n",
    "수 있습니다. 인수에는 type형 또는 Numpy의 데이터 형을 지정할 수 있습니다."
   ]
  },
  {
   "cell_type": "code",
   "execution_count": 16,
   "metadata": {},
   "outputs": [
    {
     "data": {
      "text/plain": [
       "0         1\n",
       "1        64\n",
       "2        51\n",
       "3        24\n",
       "4        51\n",
       "         ..\n",
       "10272     1\n",
       "10273    23\n",
       "10274     1\n",
       "10275     1\n",
       "10276    32\n",
       "Name: episodes, Length: 10075, dtype: int64"
      ]
     },
     "execution_count": 16,
     "metadata": {},
     "output_type": "execute_result"
    }
   ],
   "source": [
    "pd.options.display.max_rows = 10 # pandas에서 표시하는 행 수를 설정\n",
    "df['episodes'].astype(np.int64)"
   ]
  },
  {
   "cell_type": "markdown",
   "metadata": {},
   "source": [
    "#### 복수열의 형을 변경하는 경우\n",
    "복수열의 형을 변경하는 경우에는 인수에 사전을 지정할 수 있습니다."
   ]
  },
  {
   "cell_type": "code",
   "execution_count": 17,
   "metadata": {},
   "outputs": [
    {
     "data": {
      "text/html": [
       "<div>\n",
       "<style scoped>\n",
       "    .dataframe tbody tr th:only-of-type {\n",
       "        vertical-align: middle;\n",
       "    }\n",
       "\n",
       "    .dataframe tbody tr th {\n",
       "        vertical-align: top;\n",
       "    }\n",
       "\n",
       "    .dataframe thead th {\n",
       "        text-align: right;\n",
       "    }\n",
       "</style>\n",
       "<table border=\"1\" class=\"dataframe\">\n",
       "  <thead>\n",
       "    <tr style=\"text-align: right;\">\n",
       "      <th></th>\n",
       "      <th>anime_id</th>\n",
       "      <th>name</th>\n",
       "      <th>genre</th>\n",
       "      <th>type</th>\n",
       "      <th>episodes</th>\n",
       "      <th>rating</th>\n",
       "      <th>members</th>\n",
       "    </tr>\n",
       "  </thead>\n",
       "  <tbody>\n",
       "    <tr>\n",
       "      <th>0</th>\n",
       "      <td>32281</td>\n",
       "      <td>Kimi no Na wa.</td>\n",
       "      <td>Drama, Romance, School, Supernatural</td>\n",
       "      <td>Movie</td>\n",
       "      <td>1</td>\n",
       "      <td>9.37</td>\n",
       "      <td>200630</td>\n",
       "    </tr>\n",
       "    <tr>\n",
       "      <th>1</th>\n",
       "      <td>5114</td>\n",
       "      <td>Fullmetal Alchemist: Brotherhood</td>\n",
       "      <td>Action, Adventure, Drama, Fantasy, Magic, Mili...</td>\n",
       "      <td>TV</td>\n",
       "      <td>64</td>\n",
       "      <td>9.26</td>\n",
       "      <td>793665</td>\n",
       "    </tr>\n",
       "    <tr>\n",
       "      <th>2</th>\n",
       "      <td>28977</td>\n",
       "      <td>Gintama°</td>\n",
       "      <td>Action, Comedy, Historical, Parody, Samurai, S...</td>\n",
       "      <td>TV</td>\n",
       "      <td>51</td>\n",
       "      <td>9.25</td>\n",
       "      <td>114262</td>\n",
       "    </tr>\n",
       "    <tr>\n",
       "      <th>3</th>\n",
       "      <td>9253</td>\n",
       "      <td>Steins;Gate</td>\n",
       "      <td>Sci-Fi, Thriller</td>\n",
       "      <td>TV</td>\n",
       "      <td>24</td>\n",
       "      <td>9.17</td>\n",
       "      <td>673572</td>\n",
       "    </tr>\n",
       "    <tr>\n",
       "      <th>4</th>\n",
       "      <td>9969</td>\n",
       "      <td>Gintama&amp;#039;</td>\n",
       "      <td>Action, Comedy, Historical, Parody, Samurai, S...</td>\n",
       "      <td>TV</td>\n",
       "      <td>51</td>\n",
       "      <td>9.16</td>\n",
       "      <td>151266</td>\n",
       "    </tr>\n",
       "    <tr>\n",
       "      <th>...</th>\n",
       "      <td>...</td>\n",
       "      <td>...</td>\n",
       "      <td>...</td>\n",
       "      <td>...</td>\n",
       "      <td>...</td>\n",
       "      <td>...</td>\n",
       "      <td>...</td>\n",
       "    </tr>\n",
       "    <tr>\n",
       "      <th>10272</th>\n",
       "      <td>11095</td>\n",
       "      <td>Zouressha ga Yatte Kita</td>\n",
       "      <td>Adventure</td>\n",
       "      <td>Movie</td>\n",
       "      <td>1</td>\n",
       "      <td>6.06</td>\n",
       "      <td>78</td>\n",
       "    </tr>\n",
       "    <tr>\n",
       "      <th>10273</th>\n",
       "      <td>7808</td>\n",
       "      <td>Zukkoke Knight: Don De La Mancha</td>\n",
       "      <td>Adventure, Comedy, Historical, Romance</td>\n",
       "      <td>TV</td>\n",
       "      <td>23</td>\n",
       "      <td>6.47</td>\n",
       "      <td>172</td>\n",
       "    </tr>\n",
       "    <tr>\n",
       "      <th>10274</th>\n",
       "      <td>28543</td>\n",
       "      <td>Zukkoke Sannin-gumi no Hi Asobi Boushi Daisakusen</td>\n",
       "      <td>Drama, Kids</td>\n",
       "      <td>OVA</td>\n",
       "      <td>1</td>\n",
       "      <td>5.83</td>\n",
       "      <td>50</td>\n",
       "    </tr>\n",
       "    <tr>\n",
       "      <th>10275</th>\n",
       "      <td>18967</td>\n",
       "      <td>Zukkoke Sannin-gumi: Zukkoke Jikuu Bouken</td>\n",
       "      <td>Comedy, Historical, Sci-Fi</td>\n",
       "      <td>OVA</td>\n",
       "      <td>1</td>\n",
       "      <td>6.13</td>\n",
       "      <td>76</td>\n",
       "    </tr>\n",
       "    <tr>\n",
       "      <th>10276</th>\n",
       "      <td>13455</td>\n",
       "      <td>Zumomo to Nupepe</td>\n",
       "      <td>Comedy</td>\n",
       "      <td>TV</td>\n",
       "      <td>32</td>\n",
       "      <td>7.00</td>\n",
       "      <td>120</td>\n",
       "    </tr>\n",
       "  </tbody>\n",
       "</table>\n",
       "<p>10075 rows × 7 columns</p>\n",
       "</div>"
      ],
      "text/plain": [
       "       anime_id                                               name  \\\n",
       "0         32281                                     Kimi no Na wa.   \n",
       "1          5114                   Fullmetal Alchemist: Brotherhood   \n",
       "2         28977                                           Gintama°   \n",
       "3          9253                                        Steins;Gate   \n",
       "4          9969                                      Gintama&#039;   \n",
       "...         ...                                                ...   \n",
       "10272     11095                            Zouressha ga Yatte Kita   \n",
       "10273      7808                   Zukkoke Knight: Don De La Mancha   \n",
       "10274     28543  Zukkoke Sannin-gumi no Hi Asobi Boushi Daisakusen   \n",
       "10275     18967          Zukkoke Sannin-gumi: Zukkoke Jikuu Bouken   \n",
       "10276     13455                                   Zumomo to Nupepe   \n",
       "\n",
       "                                                   genre   type  episodes  \\\n",
       "0                   Drama, Romance, School, Supernatural  Movie         1   \n",
       "1      Action, Adventure, Drama, Fantasy, Magic, Mili...     TV        64   \n",
       "2      Action, Comedy, Historical, Parody, Samurai, S...     TV        51   \n",
       "3                                       Sci-Fi, Thriller     TV        24   \n",
       "4      Action, Comedy, Historical, Parody, Samurai, S...     TV        51   \n",
       "...                                                  ...    ...       ...   \n",
       "10272                                          Adventure  Movie         1   \n",
       "10273             Adventure, Comedy, Historical, Romance     TV        23   \n",
       "10274                                        Drama, Kids    OVA         1   \n",
       "10275                         Comedy, Historical, Sci-Fi    OVA         1   \n",
       "10276                                             Comedy     TV        32   \n",
       "\n",
       "       rating  members  \n",
       "0        9.37   200630  \n",
       "1        9.26   793665  \n",
       "2        9.25   114262  \n",
       "3        9.17   673572  \n",
       "4        9.16   151266  \n",
       "...       ...      ...  \n",
       "10272    6.06       78  \n",
       "10273    6.47      172  \n",
       "10274    5.83       50  \n",
       "10275    6.13       76  \n",
       "10276    7.00      120  \n",
       "\n",
       "[10075 rows x 7 columns]"
      ]
     },
     "execution_count": 17,
     "metadata": {},
     "output_type": "execute_result"
    }
   ],
   "source": [
    "df.astype({'episodes': np.int64, 'rating': np.float64})"
   ]
  },
  {
   "cell_type": "markdown",
   "metadata": {},
   "source": [
    "형 변환 후의 DataFrame을 확인해보겠습니다."
   ]
  },
  {
   "cell_type": "code",
   "execution_count": 18,
   "metadata": {},
   "outputs": [
    {
     "data": {
      "text/plain": [
       "anime_id      int64\n",
       "name         object\n",
       "genre        object\n",
       "type         object\n",
       "episodes     object\n",
       "rating      float64\n",
       "members       int64\n",
       "dtype: object"
      ]
     },
     "execution_count": 18,
     "metadata": {},
     "output_type": "execute_result"
    }
   ],
   "source": [
    "df.dtypes"
   ]
  },
  {
   "cell_type": "markdown",
   "metadata": {},
   "source": [
    "#### DataFrame을 다시 쓰는 경우\n",
    "DataFrame을 다시 쓰는 경우에는 열을 지정해서 대입하면 됩니다."
   ]
  },
  {
   "cell_type": "code",
   "execution_count": 19,
   "metadata": {},
   "outputs": [
    {
     "data": {
      "text/plain": [
       "anime_id      int64\n",
       "name         object\n",
       "genre        object\n",
       "type         object\n",
       "episodes      int64\n",
       "rating      float64\n",
       "members       int64\n",
       "dtype: object"
      ]
     },
     "execution_count": 19,
     "metadata": {},
     "output_type": "execute_result"
    }
   ],
   "source": [
    "df['episodes'] = df['episodes'].astype(np.int64)\n",
    "df.dtypes"
   ]
  },
  {
   "cell_type": "markdown",
   "metadata": {},
   "source": [
    "### 소트하기\n",
    "데이터의 순서를 바꿀 때는 sort_values() 함수를 사용하면 됩니다. 대상이 DataFrame의 경우에는 인수에 열 이름\n",
    "을 지정합니다. 초기 설정에서는 오름차순으로 소트됩니다. 내림차순으로 소트하는 경우에는 키워드 인수\n",
    "ascending에 False를 지정하면 됩니다. rating 열이 내림차순이 되도록 데이터를 소트해보겠습니다."
   ]
  },
  {
   "cell_type": "code",
   "execution_count": 20,
   "metadata": {},
   "outputs": [
    {
     "data": {
      "text/html": [
       "<div>\n",
       "<style scoped>\n",
       "    .dataframe tbody tr th:only-of-type {\n",
       "        vertical-align: middle;\n",
       "    }\n",
       "\n",
       "    .dataframe tbody tr th {\n",
       "        vertical-align: top;\n",
       "    }\n",
       "\n",
       "    .dataframe thead th {\n",
       "        text-align: right;\n",
       "    }\n",
       "</style>\n",
       "<table border=\"1\" class=\"dataframe\">\n",
       "  <thead>\n",
       "    <tr style=\"text-align: right;\">\n",
       "      <th></th>\n",
       "      <th>anime_id</th>\n",
       "      <th>name</th>\n",
       "      <th>genre</th>\n",
       "      <th>type</th>\n",
       "      <th>episodes</th>\n",
       "      <th>rating</th>\n",
       "      <th>members</th>\n",
       "    </tr>\n",
       "  </thead>\n",
       "  <tbody>\n",
       "    <tr>\n",
       "      <th>9846</th>\n",
       "      <td>33662</td>\n",
       "      <td>Taka no Tsume 8: Yoshida-kun no X-Files</td>\n",
       "      <td>Comedy, Parody</td>\n",
       "      <td>Movie</td>\n",
       "      <td>1</td>\n",
       "      <td>10.00</td>\n",
       "      <td>13</td>\n",
       "    </tr>\n",
       "    <tr>\n",
       "      <th>8985</th>\n",
       "      <td>23005</td>\n",
       "      <td>Mogura no Motoro</td>\n",
       "      <td>Slice of Life</td>\n",
       "      <td>Movie</td>\n",
       "      <td>1</td>\n",
       "      <td>9.50</td>\n",
       "      <td>62</td>\n",
       "    </tr>\n",
       "    <tr>\n",
       "      <th>0</th>\n",
       "      <td>32281</td>\n",
       "      <td>Kimi no Na wa.</td>\n",
       "      <td>Drama, Romance, School, Supernatural</td>\n",
       "      <td>Movie</td>\n",
       "      <td>1</td>\n",
       "      <td>9.37</td>\n",
       "      <td>200630</td>\n",
       "    </tr>\n",
       "    <tr>\n",
       "      <th>8474</th>\n",
       "      <td>33607</td>\n",
       "      <td>Kahei no Umi</td>\n",
       "      <td>Historical</td>\n",
       "      <td>Movie</td>\n",
       "      <td>1</td>\n",
       "      <td>9.33</td>\n",
       "      <td>44</td>\n",
       "    </tr>\n",
       "    <tr>\n",
       "      <th>1</th>\n",
       "      <td>5114</td>\n",
       "      <td>Fullmetal Alchemist: Brotherhood</td>\n",
       "      <td>Action, Adventure, Drama, Fantasy, Magic, Mili...</td>\n",
       "      <td>TV</td>\n",
       "      <td>64</td>\n",
       "      <td>9.26</td>\n",
       "      <td>793665</td>\n",
       "    </tr>\n",
       "  </tbody>\n",
       "</table>\n",
       "</div>"
      ],
      "text/plain": [
       "      anime_id                                     name  \\\n",
       "9846     33662  Taka no Tsume 8: Yoshida-kun no X-Files   \n",
       "8985     23005                         Mogura no Motoro   \n",
       "0        32281                           Kimi no Na wa.   \n",
       "8474     33607                             Kahei no Umi   \n",
       "1         5114         Fullmetal Alchemist: Brotherhood   \n",
       "\n",
       "                                                  genre   type  episodes  \\\n",
       "9846                                     Comedy, Parody  Movie         1   \n",
       "8985                                      Slice of Life  Movie         1   \n",
       "0                  Drama, Romance, School, Supernatural  Movie         1   \n",
       "8474                                         Historical  Movie         1   \n",
       "1     Action, Adventure, Drama, Fantasy, Magic, Mili...     TV        64   \n",
       "\n",
       "      rating  members  \n",
       "9846   10.00       13  \n",
       "8985    9.50       62  \n",
       "0       9.37   200630  \n",
       "8474    9.33       44  \n",
       "1       9.26   793665  "
      ]
     },
     "execution_count": 20,
     "metadata": {},
     "output_type": "execute_result"
    }
   ],
   "source": [
    "df.sort_values('rating', ascending=False).head()"
   ]
  },
  {
   "cell_type": "markdown",
   "metadata": {},
   "source": [
    "sort_values()는 비파괴적인 조작입니다. 이전 데이터를 다시 쓰는 경우에는 키워드 인수 inplace에 True를 지정한\n",
    "다."
   ]
  },
  {
   "cell_type": "markdown",
   "metadata": {},
   "source": [
    "### 함수 적용하기\n",
    "Series 또는 DataFrame에서 함수를 사용하여 임의의 함수를 적용할 수 있습니다. applymap() 함수는 DataFrame\n",
    "만 사용할 수 있습니다.\n",
    "#### map에 의한 함수 적용\n",
    "map()을 사용해서 name 열(Series)에 html.unescape() 함수를 적용해보겠습니다. 작품명 Gintama'의 HTML 특수\n",
    "문자가 변환되어 있는 것을 확인할 수 있습니다."
   ]
  },
  {
   "cell_type": "code",
   "execution_count": 21,
   "metadata": {},
   "outputs": [
    {
     "name": "stdout",
     "output_type": "stream",
     "text": [
      "0                      Kimi no Na wa.\n",
      "1    Fullmetal Alchemist: Brotherhood\n",
      "2                            Gintama°\n",
      "3                         Steins;Gate\n",
      "4                       Gintama&#039;\n",
      "Name: name, dtype: object\n",
      "0                      Kimi no Na wa.\n",
      "1    Fullmetal Alchemist: Brotherhood\n",
      "2                            Gintama°\n",
      "3                         Steins;Gate\n",
      "4                            Gintama'\n",
      "Name: name, dtype: object\n"
     ]
    }
   ],
   "source": [
    "import html\n",
    "print(df['name'].head())\n",
    "print(df['name'].map(html.unescape).head())"
   ]
  },
  {
   "cell_type": "markdown",
   "metadata": {},
   "source": [
    "#### apply() 에 의한 함수적용\n",
    "apply()를 이용해서 DataFrame의 각 열에 대한 대한 임베디드 함수 len()을 적용해보겠습니다."
   ]
  },
  {
   "cell_type": "code",
   "execution_count": 22,
   "metadata": {},
   "outputs": [
    {
     "data": {
      "text/plain": [
       "anime_id    10075\n",
       "name        10075\n",
       "genre       10075\n",
       "type        10075\n",
       "episodes    10075\n",
       "rating      10075\n",
       "members     10075\n",
       "dtype: int64"
      ]
     },
     "execution_count": 22,
     "metadata": {},
     "output_type": "execute_result"
    }
   ],
   "source": [
    "df.apply(len)"
   ]
  },
  {
   "cell_type": "markdown",
   "metadata": {},
   "source": [
    "#### apply 를 이용한 행에 대한 함수 적용\n",
    "각각의 행에 함수를 적용하는 경우, 키워드 인수 axis에 1을 지정합니다."
   ]
  },
  {
   "cell_type": "code",
   "execution_count": 23,
   "metadata": {},
   "outputs": [
    {
     "data": {
      "text/plain": [
       "0    7\n",
       "1    7\n",
       "2    7\n",
       "3    7\n",
       "4    7\n",
       "dtype: int64"
      ]
     },
     "execution_count": 23,
     "metadata": {},
     "output_type": "execute_result"
    }
   ],
   "source": [
    "df.apply(len, axis=1).head()"
   ]
  },
  {
   "cell_type": "markdown",
   "metadata": {},
   "source": [
    "#### apply 에 넘겨준 함수의 인수에 레이블 지정하기\n",
    "apply()에 넘겨진 함수에 넘겨지는 인수는 Series형이 됩니다. 행에 대해 실시한 경우도 같습니다."
   ]
  },
  {
   "cell_type": "code",
   "execution_count": 24,
   "metadata": {},
   "outputs": [
    {
     "data": {
      "text/plain": [
       "anime_id    <class 'pandas.core.series.Series'>\n",
       "name        <class 'pandas.core.series.Series'>\n",
       "genre       <class 'pandas.core.series.Series'>\n",
       "type        <class 'pandas.core.series.Series'>\n",
       "episodes    <class 'pandas.core.series.Series'>\n",
       "rating      <class 'pandas.core.series.Series'>\n",
       "members     <class 'pandas.core.series.Series'>\n",
       "dtype: object"
      ]
     },
     "execution_count": 24,
     "metadata": {},
     "output_type": "execute_result"
    }
   ],
   "source": [
    "df.apply(type)"
   ]
  },
  {
   "cell_type": "markdown",
   "metadata": {},
   "source": [
    "이를 이용해서 적용하는 함수의 안에 레이블을 지정할 수 있습니다. name열과 genre열의 문자수를 합산 해보겠습니다."
   ]
  },
  {
   "cell_type": "code",
   "execution_count": 25,
   "metadata": {},
   "outputs": [
    {
     "data": {
      "text/plain": [
       "0    50\n",
       "1    91\n",
       "2    68\n",
       "3    27\n",
       "4    73\n",
       "dtype: int64"
      ]
     },
     "execution_count": 25,
     "metadata": {},
     "output_type": "execute_result"
    }
   ],
   "source": [
    "df.apply(lambda x: len(x['name']) + len(x['genre']), axis=1).head()"
   ]
  },
  {
   "cell_type": "markdown",
   "metadata": {},
   "source": [
    "#### applymap()에 의한 함수 적용\n",
    "applymap()을 사용해서 DataFrame의 이름값에 대한 len()을 적용해보겠습니다."
   ]
  },
  {
   "cell_type": "code",
   "execution_count": 26,
   "metadata": {},
   "outputs": [
    {
     "data": {
      "text/html": [
       "<div>\n",
       "<style scoped>\n",
       "    .dataframe tbody tr th:only-of-type {\n",
       "        vertical-align: middle;\n",
       "    }\n",
       "\n",
       "    .dataframe tbody tr th {\n",
       "        vertical-align: top;\n",
       "    }\n",
       "\n",
       "    .dataframe thead th {\n",
       "        text-align: right;\n",
       "    }\n",
       "</style>\n",
       "<table border=\"1\" class=\"dataframe\">\n",
       "  <thead>\n",
       "    <tr style=\"text-align: right;\">\n",
       "      <th></th>\n",
       "      <th>name</th>\n",
       "      <th>genre</th>\n",
       "    </tr>\n",
       "  </thead>\n",
       "  <tbody>\n",
       "    <tr>\n",
       "      <th>0</th>\n",
       "      <td>14</td>\n",
       "      <td>36</td>\n",
       "    </tr>\n",
       "    <tr>\n",
       "      <th>1</th>\n",
       "      <td>32</td>\n",
       "      <td>59</td>\n",
       "    </tr>\n",
       "    <tr>\n",
       "      <th>2</th>\n",
       "      <td>8</td>\n",
       "      <td>60</td>\n",
       "    </tr>\n",
       "    <tr>\n",
       "      <th>3</th>\n",
       "      <td>11</td>\n",
       "      <td>16</td>\n",
       "    </tr>\n",
       "    <tr>\n",
       "      <th>4</th>\n",
       "      <td>13</td>\n",
       "      <td>60</td>\n",
       "    </tr>\n",
       "  </tbody>\n",
       "</table>\n",
       "</div>"
      ],
      "text/plain": [
       "   name  genre\n",
       "0    14     36\n",
       "1    32     59\n",
       "2     8     60\n",
       "3    11     16\n",
       "4    13     60"
      ]
     },
     "execution_count": 26,
     "metadata": {},
     "output_type": "execute_result"
    }
   ],
   "source": [
    "df[['name', 'genre']].applymap(len).head()"
   ]
  },
  {
   "cell_type": "code",
   "execution_count": null,
   "metadata": {},
   "outputs": [],
   "source": []
  }
 ],
 "metadata": {
  "kernelspec": {
   "display_name": "Python 3",
   "language": "python",
   "name": "python3"
  },
  "language_info": {
   "codemirror_mode": {
    "name": "ipython",
    "version": 3
   },
   "file_extension": ".py",
   "mimetype": "text/x-python",
   "name": "python",
   "nbconvert_exporter": "python",
   "pygments_lexer": "ipython3",
   "version": "3.7.4"
  }
 },
 "nbformat": 4,
 "nbformat_minor": 2
}
